{
 "cells": [
  {
   "cell_type": "code",
   "execution_count": 1,
   "id": "78f04b7f",
   "metadata": {},
   "outputs": [],
   "source": [
    "import pandas as pd\n",
    "import numpy as np\n",
    "import matplotlib.pyplot as plt"
   ]
  },
  {
   "cell_type": "code",
   "execution_count": 4,
   "id": "5c64d935",
   "metadata": {},
   "outputs": [
    {
     "data": {
      "text/html": [
       "<div>\n",
       "<style scoped>\n",
       "    .dataframe tbody tr th:only-of-type {\n",
       "        vertical-align: middle;\n",
       "    }\n",
       "\n",
       "    .dataframe tbody tr th {\n",
       "        vertical-align: top;\n",
       "    }\n",
       "\n",
       "    .dataframe thead th {\n",
       "        text-align: right;\n",
       "    }\n",
       "</style>\n",
       "<table border=\"1\" class=\"dataframe\">\n",
       "  <thead>\n",
       "    <tr style=\"text-align: right;\">\n",
       "      <th></th>\n",
       "      <th>Year</th>\n",
       "      <th>Price in USD</th>\n",
       "    </tr>\n",
       "  </thead>\n",
       "  <tbody>\n",
       "    <tr>\n",
       "      <th>0</th>\n",
       "      <td>1950</td>\n",
       "      <td>34.720</td>\n",
       "    </tr>\n",
       "    <tr>\n",
       "      <th>1</th>\n",
       "      <td>1951</td>\n",
       "      <td>34.660</td>\n",
       "    </tr>\n",
       "    <tr>\n",
       "      <th>2</th>\n",
       "      <td>1952</td>\n",
       "      <td>34.790</td>\n",
       "    </tr>\n",
       "    <tr>\n",
       "      <th>3</th>\n",
       "      <td>1953</td>\n",
       "      <td>34.850</td>\n",
       "    </tr>\n",
       "    <tr>\n",
       "      <th>4</th>\n",
       "      <td>1954</td>\n",
       "      <td>35.040</td>\n",
       "    </tr>\n",
       "    <tr>\n",
       "      <th>...</th>\n",
       "      <td>...</td>\n",
       "      <td>...</td>\n",
       "    </tr>\n",
       "    <tr>\n",
       "      <th>65</th>\n",
       "      <td>2015</td>\n",
       "      <td>1068.317</td>\n",
       "    </tr>\n",
       "    <tr>\n",
       "      <th>66</th>\n",
       "      <td>2016</td>\n",
       "      <td>1152.165</td>\n",
       "    </tr>\n",
       "    <tr>\n",
       "      <th>67</th>\n",
       "      <td>2017</td>\n",
       "      <td>1265.674</td>\n",
       "    </tr>\n",
       "    <tr>\n",
       "      <th>68</th>\n",
       "      <td>2018</td>\n",
       "      <td>1249.887</td>\n",
       "    </tr>\n",
       "    <tr>\n",
       "      <th>69</th>\n",
       "      <td>2019</td>\n",
       "      <td>1480.025</td>\n",
       "    </tr>\n",
       "  </tbody>\n",
       "</table>\n",
       "<p>70 rows × 2 columns</p>\n",
       "</div>"
      ],
      "text/plain": [
       "    Year  Price in USD\n",
       "0   1950        34.720\n",
       "1   1951        34.660\n",
       "2   1952        34.790\n",
       "3   1953        34.850\n",
       "4   1954        35.040\n",
       "..   ...           ...\n",
       "65  2015      1068.317\n",
       "66  2016      1152.165\n",
       "67  2017      1265.674\n",
       "68  2018      1249.887\n",
       "69  2019      1480.025\n",
       "\n",
       "[70 rows x 2 columns]"
      ]
     },
     "execution_count": 4,
     "metadata": {},
     "output_type": "execute_result"
    }
   ],
   "source": [
    "dataset =pd.read_csv(\"annual gold price.csv\")\n",
    "dataset"
   ]
  },
  {
   "cell_type": "markdown",
   "id": "a90d9877",
   "metadata": {},
   "source": [
    "# Data Processing"
   ]
  },
  {
   "cell_type": "code",
   "execution_count": 5,
   "id": "e0abc12b",
   "metadata": {},
   "outputs": [],
   "source": [
    "x =dataset.iloc[: ,:-1].values\n",
    "y =dataset.iloc[: , -1].values"
   ]
  },
  {
   "cell_type": "code",
   "execution_count": 6,
   "id": "fcc90784",
   "metadata": {},
   "outputs": [
    {
     "data": {
      "text/plain": [
       "array([[1950],\n",
       "       [1951],\n",
       "       [1952],\n",
       "       [1953],\n",
       "       [1954],\n",
       "       [1955],\n",
       "       [1956],\n",
       "       [1957],\n",
       "       [1958],\n",
       "       [1959],\n",
       "       [1960],\n",
       "       [1961],\n",
       "       [1962],\n",
       "       [1963],\n",
       "       [1964],\n",
       "       [1965],\n",
       "       [1966],\n",
       "       [1967],\n",
       "       [1968],\n",
       "       [1969],\n",
       "       [1970],\n",
       "       [1971],\n",
       "       [1972],\n",
       "       [1973],\n",
       "       [1974],\n",
       "       [1975],\n",
       "       [1976],\n",
       "       [1977],\n",
       "       [1978],\n",
       "       [1979],\n",
       "       [1980],\n",
       "       [1981],\n",
       "       [1982],\n",
       "       [1983],\n",
       "       [1984],\n",
       "       [1985],\n",
       "       [1986],\n",
       "       [1987],\n",
       "       [1988],\n",
       "       [1989],\n",
       "       [1990],\n",
       "       [1991],\n",
       "       [1992],\n",
       "       [1993],\n",
       "       [1994],\n",
       "       [1995],\n",
       "       [1996],\n",
       "       [1997],\n",
       "       [1998],\n",
       "       [1999],\n",
       "       [2000],\n",
       "       [2001],\n",
       "       [2002],\n",
       "       [2003],\n",
       "       [2004],\n",
       "       [2005],\n",
       "       [2006],\n",
       "       [2007],\n",
       "       [2008],\n",
       "       [2009],\n",
       "       [2010],\n",
       "       [2011],\n",
       "       [2012],\n",
       "       [2013],\n",
       "       [2014],\n",
       "       [2015],\n",
       "       [2016],\n",
       "       [2017],\n",
       "       [2018],\n",
       "       [2019]], dtype=int64)"
      ]
     },
     "execution_count": 6,
     "metadata": {},
     "output_type": "execute_result"
    }
   ],
   "source": [
    "x"
   ]
  },
  {
   "cell_type": "code",
   "execution_count": 7,
   "id": "cc9120d6",
   "metadata": {},
   "outputs": [
    {
     "data": {
      "text/plain": [
       "array([  34.72 ,   34.66 ,   34.79 ,   34.85 ,   35.04 ,   34.97 ,\n",
       "         34.9  ,   34.99 ,   35.09 ,   35.05 ,   35.54 ,   35.15 ,\n",
       "         35.08 ,   35.08 ,   35.12 ,   35.13 ,   35.18 ,   35.19 ,\n",
       "         41.113,   35.189,   37.434,   43.455,   63.779,  106.236,\n",
       "        183.683,  139.279,  133.674,  160.48 ,  207.895,  463.666,\n",
       "        596.712,  410.119,  444.776,  388.06 ,  319.622,  321.985,\n",
       "        391.595,  487.079,  419.248,  409.655,  378.161,  361.875,\n",
       "        334.657,  383.243,  379.48 ,  387.445,  369.338,  288.776,\n",
       "        291.357,  283.743,  271.892,  275.992,  333.3  ,  407.674,\n",
       "        442.974,  509.423,  629.513,  803.618,  819.94 , 1135.012,\n",
       "       1393.512, 1652.725, 1687.342, 1221.588, 1200.44 , 1068.317,\n",
       "       1152.165, 1265.674, 1249.887, 1480.025])"
      ]
     },
     "execution_count": 7,
     "metadata": {},
     "output_type": "execute_result"
    }
   ],
   "source": [
    "y"
   ]
  },
  {
   "cell_type": "markdown",
   "id": "e503218d",
   "metadata": {},
   "source": [
    "# Spliting"
   ]
  },
  {
   "cell_type": "code",
   "execution_count": 9,
   "id": "6527153a",
   "metadata": {},
   "outputs": [],
   "source": [
    "from sklearn.model_selection import train_test_split\n",
    "x_train, x_test, y_train, y_test = train_test_split(x, y, test_size = 1/3, random_state = 0)"
   ]
  },
  {
   "cell_type": "markdown",
   "id": "05c42e80",
   "metadata": {},
   "source": [
    "# Fitting Linear Regression"
   ]
  },
  {
   "cell_type": "code",
   "execution_count": 13,
   "id": "ee14a9ca",
   "metadata": {},
   "outputs": [
    {
     "data": {
      "text/plain": [
       "LinearRegression()"
      ]
     },
     "execution_count": 13,
     "metadata": {},
     "output_type": "execute_result"
    }
   ],
   "source": [
    "from sklearn.linear_model import LinearRegression\n",
    "regressor = LinearRegression()\n",
    "regressor.fit(x_train, y_train)"
   ]
  },
  {
   "cell_type": "markdown",
   "id": "10b7ec84",
   "metadata": {},
   "source": [
    "# Predicting Test Set Results"
   ]
  },
  {
   "cell_type": "code",
   "execution_count": 14,
   "id": "b480152d",
   "metadata": {},
   "outputs": [],
   "source": [
    "y_pred = regressor.predict(x_test)"
   ]
  },
  {
   "cell_type": "markdown",
   "id": "c3a6b5be",
   "metadata": {},
   "source": [
    "# Plotting Training Results"
   ]
  },
  {
   "cell_type": "code",
   "execution_count": 15,
   "id": "cfd6670c",
   "metadata": {},
   "outputs": [
    {
     "data": {
      "image/png": "[encoded data removed]",
      "text/plain": [
       "<Figure size 432x288 with 1 Axes>"
      ]
     },
     "metadata": {
      "needs_background": "light"
     },
     "output_type": "display_data"
    }
   ],
   "source": [
    "plt.scatter(x_train, y_train, color = 'blue')\n",
    "plt.plot(x_train, regressor.predict(x_train), color = 'green')\n",
    "plt.title('Annual Gold Price(Training set)')\n",
    "plt.xlabel('Year')\n",
    "plt.ylabel('price')\n",
    "plt.show()"
   ]
  },
  {
   "cell_type": "markdown",
   "id": "b58b633a",
   "metadata": {},
   "source": [
    "# Visualising Testing Results"
   ]
  },
  {
   "cell_type": "code",
   "execution_count": 16,
   "id": "55cf8ca7",
   "metadata": {},
   "outputs": [
    {
     "data": {
      "image/png": "[encoded data removed]",
      "text/plain": [
       "<Figure size 432x288 with 1 Axes>"
      ]
     },
     "metadata": {
      "needs_background": "light"
     },
     "output_type": "display_data"
    }
   ],
   "source": [
    "plt.scatter(x_test, y_test, color = 'blue')\n",
    "plt.plot(x_train, regressor.predict(x_train), color = 'green')\n",
    "plt.title('Annual Gold Price(Test set)')\n",
    "plt.xlabel('Year')\n",
    "plt.ylabel('Price')\n",
    "plt.show()"
   ]
  },
  {
   "cell_type": "markdown",
   "id": "f086007c",
   "metadata": {},
   "source": [
    "# Appling Polynomial Regression"
   ]
  },
  {
   "cell_type": "code",
   "execution_count": 17,
   "id": "0237e26c",
   "metadata": {},
   "outputs": [
    {
     "data": {
      "text/plain": [
       "LinearRegression()"
      ]
     },
     "execution_count": 17,
     "metadata": {},
     "output_type": "execute_result"
    }
   ],
   "source": [
    "from sklearn.preprocessing import PolynomialFeatures\n",
    "poly_reg = PolynomialFeatures(degree =3)\n",
    "x_poly = poly_reg.fit_transform(x)\n",
    "poly_reg.fit(x_poly ,y)\n",
    "lin_reg_2 = LinearRegression()\n",
    "lin_reg_2.fit(x_poly ,y)"
   ]
  },
  {
   "cell_type": "markdown",
   "id": "5e35c83a",
   "metadata": {},
   "source": [
    "# Visualising "
   ]
  },
  {
   "cell_type": "code",
   "execution_count": 19,
   "id": "14992d8f",
   "metadata": {},
   "outputs": [
    {
     "data": {
      "image/png": "[encoded data removed]",
      "text/plain": [
       "<Figure size 432x288 with 1 Axes>"
      ]
     },
     "metadata": {
      "needs_background": "light"
     },
     "output_type": "display_data"
    }
   ],
   "source": [
    "plt.scatter(x,y,color = \"blue\")\n",
    "plt.plot(x ,lin_reg_2.predict(poly_reg.fit_transform(x)), color =\"red\")\n",
    "plt.title(\"Annual Gold Price(Polynomial Regression)\")\n",
    "plt.xlabel(\"Year\")\n",
    "plt.ylabel(\"Price\")\n",
    "plt.show()"
   ]
  },
  {
   "cell_type": "code",
   "execution_count": 20,
   "id": "3cc9f7f5",
   "metadata": {},
   "outputs": [
    {
     "data": {
      "image/png": "[encoded data removed]",
      "text/plain": [
       "<Figure size 432x288 with 1 Axes>"
      ]
     },
     "metadata": {
      "needs_background": "light"
     },
     "output_type": "display_data"
    }
   ],
   "source": [
    "x_grid =np.arange(min(x) ,max(x) ,0.1)\n",
    "x_grid =x_grid.reshape((len(x_grid), 1))\n",
    "plt.scatter(x , y,color=\"red\")\n",
    "plt.plot(x_grid ,lin_reg_2.predict(poly_reg.fit_transform(x_grid)), color=\"blue\")\n",
    "plt.title(\"Annual Gold Price(Polynomial Regression)\")\n",
    "plt.xlabel(\"Year\")\n",
    "plt.ylabel(\"Price\")\n",
    "plt.show()"
   ]
  },
  {
   "cell_type": "markdown",
   "id": "a4d51d63",
   "metadata": {},
   "source": [
    "# Prediction"
   ]
  },
  {
   "cell_type": "code",
   "execution_count": 21,
   "id": "883d9f82",
   "metadata": {},
   "outputs": [
    {
     "name": "stdout",
     "output_type": "stream",
     "text": [
      "Annual Gold Price in 2020 =\n",
      "[1046.51863026]\n"
     ]
    }
   ],
   "source": [
    "y_pred =regressor.predict([[2020]])\n",
    "print(\"Annual Gold Price in 2020 =\")\n",
    "print(y_pred)"
   ]
  },
  {
   "cell_type": "code",
   "execution_count": 22,
   "id": "daa6caf9",
   "metadata": {},
   "outputs": [
    {
     "name": "stdout",
     "output_type": "stream",
     "text": [
      "Annual Gold Price in 2021 =\n",
      "[1064.34759269]\n"
     ]
    }
   ],
   "source": [
    "y_pred =regressor.predict([[2021]])\n",
    "print(\"Annual Gold Price in 2021 =\")\n",
    "print(y_pred)"
   ]
  },
  {
   "cell_type": "code",
   "execution_count": 23,
   "id": "155aae2b",
   "metadata": {},
   "outputs": [
    {
     "name": "stdout",
     "output_type": "stream",
     "text": [
      "Annual Gold Price in 2022 =\n",
      "[1082.17655512]\n"
     ]
    }
   ],
   "source": [
    "y_pred =regressor.predict([[2022]])\n",
    "print(\"Annual Gold Price in 2022 =\")\n",
    "print(y_pred)"
   ]
  },
  {
   "cell_type": "markdown",
   "id": "ed1b6b28",
   "metadata": {},
   "source": [
    "# Decision Tree Regression"
   ]
  },
  {
   "cell_type": "code",
   "execution_count": 24,
   "id": "f07bdd40",
   "metadata": {},
   "outputs": [
    {
     "data": {
      "text/plain": [
       "DecisionTreeRegressor(random_state=0)"
      ]
     },
     "execution_count": 24,
     "metadata": {},
     "output_type": "execute_result"
    }
   ],
   "source": [
    "from sklearn.tree import DecisionTreeRegressor\n",
    "regressor = DecisionTreeRegressor(random_state = 0)\n",
    "regressor.fit(x, y)"
   ]
  },
  {
   "cell_type": "markdown",
   "id": "3b946325",
   "metadata": {},
   "source": [
    "# Predicting new Results"
   ]
  },
  {
   "cell_type": "code",
   "execution_count": 31,
   "id": "96c5a9cf",
   "metadata": {},
   "outputs": [
    {
     "data": {
      "text/plain": [
       "array([1396.13224])"
      ]
     },
     "execution_count": 31,
     "metadata": {},
     "output_type": "execute_result"
    }
   ],
   "source": [
    "regressor.predict([[2020]])"
   ]
  },
  {
   "cell_type": "markdown",
   "id": "206c39b1",
   "metadata": {},
   "source": [
    "# Visualising The Results"
   ]
  },
  {
   "cell_type": "code",
   "execution_count": 33,
   "id": "33cbb2ab",
   "metadata": {},
   "outputs": [
    {
     "data": {
      "image/png": "[encoded data removed]",
      "text/plain": [
       "<Figure size 432x288 with 1 Axes>"
      ]
     },
     "metadata": {
      "needs_background": "light"
     },
     "output_type": "display_data"
    }
   ],
   "source": [
    "x_grid = np.arange(min(x), max(x), 0.01)\n",
    "x_grid = x_grid.reshape((len(x_grid), 1))\n",
    "plt.scatter(x, y, color = 'green')\n",
    "plt.plot(x_grid, regressor.predict(x_grid), color = 'blue')\n",
    "plt.title('Annual Gold Price(Decision Tree Regression)')\n",
    "plt.xlabel('Year')\n",
    "plt.ylabel('Price')\n",
    "plt.show()"
   ]
  },
  {
   "cell_type": "markdown",
   "id": "454092a6",
   "metadata": {},
   "source": [
    "# Random Forest Regression"
   ]
  },
  {
   "cell_type": "code",
   "execution_count": 36,
   "id": "4e71f115",
   "metadata": {},
   "outputs": [
    {
     "data": {
      "text/plain": [
       "RandomForestRegressor(n_estimators=10, random_state=0)"
      ]
     },
     "execution_count": 36,
     "metadata": {},
     "output_type": "execute_result"
    }
   ],
   "source": [
    "from sklearn.ensemble import RandomForestRegressor\n",
    "regressor = RandomForestRegressor(n_estimators = 10, random_state = 0)\n",
    "regressor.fit(x, y)"
   ]
  },
  {
   "cell_type": "markdown",
   "id": "2eb473e3",
   "metadata": {},
   "source": [
    "# Predicting a new result"
   ]
  },
  {
   "cell_type": "code",
   "execution_count": 37,
   "id": "335e36d7",
   "metadata": {},
   "outputs": [
    {
     "data": {
      "text/plain": [
       "array([1412.5623])"
      ]
     },
     "execution_count": 37,
     "metadata": {},
     "output_type": "execute_result"
    }
   ],
   "source": [
    "regressor.predict([[2021]])"
   ]
  },
  {
   "cell_type": "markdown",
   "id": "910b27f8",
   "metadata": {},
   "source": [
    "# Visualising the Random Forest Regression results"
   ]
  },
  {
   "cell_type": "code",
   "execution_count": 38,
   "id": "e968a5ee",
   "metadata": {},
   "outputs": [
    {
     "data": {
      "image/png": "[encoded data removed]",
      "text/plain": [
       "<Figure size 432x288 with 1 Axes>"
      ]
     },
     "metadata": {
      "needs_background": "light"
     },
     "output_type": "display_data"
    }
   ],
   "source": [
    "x_grid = np.arange(min(x), max(x), 0.01)\n",
    "x_grid = x_grid.reshape((len(x_grid), 1))\n",
    "plt.scatter(x, y, color = 'green')\n",
    "plt.plot(x_grid, regressor.predict(x_grid), color = 'red')\n",
    "plt.title('Annual Gold Price(Random Forest Regression)')\n",
    "plt.xlabel('Year')\n",
    "plt.ylabel('Price')\n",
    "plt.show()"
   ]
  },
  {
   "cell_type": "markdown",
   "id": "63ab3cad",
   "metadata": {},
   "source": [
    "# Conclusion"
   ]
  },
  {
   "cell_type": "code",
   "execution_count": null,
   "id": "03093497",
   "metadata": {},
   "outputs": [],
   "source": [
    "The Random Forest Regression gives best results amoung all and give the best fit line according to predictions."
   ]
  }
 ],
 "metadata": {
  "kernelspec": {
   "display_name": "Python 3 (ipykernel)",
   "language": "python",
   "name": "python3"
  },
  "language_info": {
   "codemirror_mode": {
    "name": "ipython",
    "version": 3
   },
   "file_extension": ".py",
   "mimetype": "text/x-python",
   "name": "python",
   "nbconvert_exporter": "python",
   "pygments_lexer": "ipython3",
   "version": "3.9.7"
  }
 },
 "nbformat": 4,
 "nbformat_minor": 5
}
